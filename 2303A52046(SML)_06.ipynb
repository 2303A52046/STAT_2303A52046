{
  "nbformat": 4,
  "nbformat_minor": 0,
  "metadata": {
    "colab": {
      "provenance": [],
      "authorship_tag": "ABX9TyMWFZbtsi9mHZem2nwTquyS",
      "include_colab_link": true
    },
    "kernelspec": {
      "name": "python3",
      "display_name": "Python 3"
    },
    "language_info": {
      "name": "python"
    }
  },
  "cells": [
    {
      "cell_type": "markdown",
      "metadata": {
        "id": "view-in-github",
        "colab_type": "text"
      },
      "source": [
        "<a href=\"https://colab.research.google.com/github/2303A52046/STAT_2303A52046/blob/main/2303A52046(SML)_06.ipynb\" target=\"_parent\"><img src=\"https://colab.research.google.com/assets/colab-badge.svg\" alt=\"Open In Colab\"/></a>"
      ]
    },
    {
      "cell_type": "markdown",
      "source": [
        "1.Student Data"
      ],
      "metadata": {
        "id": "tsvn0ATyYXwS"
      }
    },
    {
      "cell_type": "code",
      "execution_count": 2,
      "metadata": {
        "id": "6T7xDn-UYRfV"
      },
      "outputs": [],
      "source": [
        "import pandas as pd\n",
        "import numpy as np"
      ]
    },
    {
      "cell_type": "code",
      "source": [
        "df = pd.read_csv('/content/student_data.csv')\n",
        "print(df)"
      ],
      "metadata": {
        "colab": {
          "base_uri": "https://localhost:8080/"
        },
        "id": "LKXdt7HGYeeC",
        "outputId": "a0c7aa4c-455d-4bbc-98c9-de9d3e3ca67b"
      },
      "execution_count": 4,
      "outputs": [
        {
          "output_type": "stream",
          "name": "stdout",
          "text": [
            "   Study Hours per Week  Class Attendance (%)  Previous Exam Score (%)  \\\n",
            "0                    10                    90                       85   \n",
            "1                     5                    60                       70   \n",
            "2                    15                    95                       90   \n",
            "3                     2                    30                       50   \n",
            "4                    12                    85                       88   \n",
            "5                     8                    75                       65   \n",
            "6                    14                    92                       93   \n",
            "7                     3                    50                       55   \n",
            "8                    11                    88                       80   \n",
            "9                     6                    65                       60   \n",
            "\n",
            "   Participation in Group Study  Submission of Assignments (%)  Pass/Fail  \n",
            "0                             1                            100          1  \n",
            "1                             0                             80          0  \n",
            "2                             1                            100          1  \n",
            "3                             0                             40          0  \n",
            "4                             1                             90          1  \n",
            "5                             0                             70          0  \n",
            "6                             1                             95          1  \n",
            "7                             0                             60          0  \n",
            "8                             1                             85          1  \n",
            "9                             0                             75          0  \n"
          ]
        }
      ]
    },
    {
      "cell_type": "code",
      "source": [
        "y = df['Pass/Fail']\n",
        "X = df.drop('Pass/Fail',axis=1)\n",
        "print(\"Features:\", X)\n",
        "print(\"Target:\",y)\n",
        "#Normalize the data\n",
        "X = (X - X.min()) / (X.max() - X.min())\n",
        "X.fillna(0, inplace=True)\n",
        "print(\"Normalized Features:\",X)"
      ],
      "metadata": {
        "colab": {
          "base_uri": "https://localhost:8080/"
        },
        "id": "tQfprH-YZUnV",
        "outputId": "2c64f402-ad34-472c-ffab-64156a859b0b"
      },
      "execution_count": 5,
      "outputs": [
        {
          "output_type": "stream",
          "name": "stdout",
          "text": [
            "Features:    Study Hours per Week  Class Attendance (%)  Previous Exam Score (%)  \\\n",
            "0                    10                    90                       85   \n",
            "1                     5                    60                       70   \n",
            "2                    15                    95                       90   \n",
            "3                     2                    30                       50   \n",
            "4                    12                    85                       88   \n",
            "5                     8                    75                       65   \n",
            "6                    14                    92                       93   \n",
            "7                     3                    50                       55   \n",
            "8                    11                    88                       80   \n",
            "9                     6                    65                       60   \n",
            "\n",
            "   Participation in Group Study  Submission of Assignments (%)  \n",
            "0                             1                            100  \n",
            "1                             0                             80  \n",
            "2                             1                            100  \n",
            "3                             0                             40  \n",
            "4                             1                             90  \n",
            "5                             0                             70  \n",
            "6                             1                             95  \n",
            "7                             0                             60  \n",
            "8                             1                             85  \n",
            "9                             0                             75  \n",
            "Target: 0    1\n",
            "1    0\n",
            "2    1\n",
            "3    0\n",
            "4    1\n",
            "5    0\n",
            "6    1\n",
            "7    0\n",
            "8    1\n",
            "9    0\n",
            "Name: Pass/Fail, dtype: int64\n",
            "Normalized Features:    Study Hours per Week  Class Attendance (%)  Previous Exam Score (%)  \\\n",
            "0              0.615385              0.923077                 0.813953   \n",
            "1              0.230769              0.461538                 0.465116   \n",
            "2              1.000000              1.000000                 0.930233   \n",
            "3              0.000000              0.000000                 0.000000   \n",
            "4              0.769231              0.846154                 0.883721   \n",
            "5              0.461538              0.692308                 0.348837   \n",
            "6              0.923077              0.953846                 1.000000   \n",
            "7              0.076923              0.307692                 0.116279   \n",
            "8              0.692308              0.892308                 0.697674   \n",
            "9              0.307692              0.538462                 0.232558   \n",
            "\n",
            "   Participation in Group Study  Submission of Assignments (%)  \n",
            "0                           1.0                       1.000000  \n",
            "1                           0.0                       0.666667  \n",
            "2                           1.0                       1.000000  \n",
            "3                           0.0                       0.000000  \n",
            "4                           1.0                       0.833333  \n",
            "5                           0.0                       0.500000  \n",
            "6                           1.0                       0.916667  \n",
            "7                           0.0                       0.333333  \n",
            "8                           1.0                       0.750000  \n",
            "9                           0.0                       0.583333  \n"
          ]
        }
      ]
    },
    {
      "cell_type": "code",
      "source": [
        "def initialize_parameters(n_features):\n",
        "  weights = np.zeros(n_features)\n",
        "  bias = 0\n",
        "  learning_rate = 0.01\n",
        "  return weights, bias, learning_rate\n",
        "n_features = X.shape[1]\n",
        "weights, bias, learning_rate = initialize_parameters(n_features)"
      ],
      "metadata": {
        "id": "RKbbvZFhE5Fq"
      },
      "execution_count": 6,
      "outputs": []
    },
    {
      "cell_type": "code",
      "source": [
        "def perceptron_train(X, y, weights, bias, learning_rate, epochs):\n",
        "  for epoch in range(epochs):\n",
        "    for i in range(len(y)):\n",
        "      linear_output = np.dot(X.iloc[i], weights) + bias\n",
        "      prediction = 1 if linear_output >= 0 else 0\n",
        "      error = y.iloc[i] - prediction\n",
        "      weights += learning_rate * error * X.iloc[i]\n",
        "    if epoch % 100 == 0:\n",
        "      print(f'Epoch {epoch}: Weights: {weights}, Bias: {bias}')\n",
        "    return weights, bias\n",
        "epochs = 1000\n",
        "weights, bias = perceptron_train(X, y, weights, bias, learning_rate, epochs)\n",
        "\n",
        "print(\"Trained Weights:\", weights)"
      ],
      "metadata": {
        "colab": {
          "base_uri": "https://localhost:8080/"
        },
        "id": "BGWHRO4zcMFR",
        "outputId": "0938c14f-562b-4f05-c4d0-ac7779e969e4"
      },
      "execution_count": 7,
      "outputs": [
        {
          "output_type": "stream",
          "name": "stdout",
          "text": [
            "Epoch 0: Weights: Study Hours per Week             0.003077\n",
            "Class Attendance (%)            -0.001538\n",
            "Previous Exam Score (%)          0.001163\n",
            "Participation in Group Study     0.010000\n",
            "Submission of Assignments (%)   -0.001667\n",
            "Name: 0, dtype: float64, Bias: 0\n",
            "Trained Weights: Study Hours per Week             0.003077\n",
            "Class Attendance (%)            -0.001538\n",
            "Previous Exam Score (%)          0.001163\n",
            "Participation in Group Study     0.010000\n",
            "Submission of Assignments (%)   -0.001667\n",
            "Name: 0, dtype: float64\n"
          ]
        }
      ]
    },
    {
      "cell_type": "code",
      "source": [
        "def predict(X, weights, bias):\n",
        "  linear_output = np.dot(X, weights) + bias\n",
        "  return (linear_output >= 0).astype(int)\n",
        "predictions = predict(X, weights, bias)\n",
        "accuracy = np.mean(predictions == y) * 100\n",
        "\n",
        "print(\"Predictions:\", predictions)\n",
        "print(y.values)\n",
        "print(\"\\nAccuracy: {:.2f}%\".format(accuracy))\n",
        "print(weights)"
      ],
      "metadata": {
        "colab": {
          "base_uri": "https://localhost:8080/"
        },
        "id": "Gfa6pooeccj4",
        "outputId": "1499b1fa-6e51-4d6c-b4ba-dd64aab62514"
      },
      "execution_count": 8,
      "outputs": [
        {
          "output_type": "stream",
          "name": "stdout",
          "text": [
            "Predictions: [1 0 1 1 1 0 1 0 1 0]\n",
            "[1 0 1 0 1 0 1 0 1 0]\n",
            "\n",
            "Accuracy: 90.00%\n",
            "Study Hours per Week             0.003077\n",
            "Class Attendance (%)            -0.001538\n",
            "Previous Exam Score (%)          0.001163\n",
            "Participation in Group Study     0.010000\n",
            "Submission of Assignments (%)   -0.001667\n",
            "Name: 0, dtype: float64\n"
          ]
        }
      ]
    },
    {
      "cell_type": "markdown",
      "source": [
        "2.Diabetes"
      ],
      "metadata": {
        "id": "CFITU8-4cide"
      }
    },
    {
      "cell_type": "code",
      "source": [
        "df = pd.read_csv('/content/diabetes_data_upload (4).csv')\n",
        "print(df)"
      ],
      "metadata": {
        "id": "Fr-Y70QJck7D",
        "colab": {
          "base_uri": "https://localhost:8080/"
        },
        "outputId": "e3536a5e-1dbe-4de8-a8f9-7a12f1a9cb78"
      },
      "execution_count": 9,
      "outputs": [
        {
          "output_type": "stream",
          "name": "stdout",
          "text": [
            "     Age  Gender Polyuria Polydipsia sudden weight loss weakness Polyphagia  \\\n",
            "0     40    Male       No        Yes                 No      Yes         No   \n",
            "1     58    Male       No         No                 No      Yes         No   \n",
            "2     41    Male      Yes         No                 No      Yes        Yes   \n",
            "3     45    Male       No         No                Yes      Yes        Yes   \n",
            "4     60    Male      Yes        Yes                Yes      Yes        Yes   \n",
            "..   ...     ...      ...        ...                ...      ...        ...   \n",
            "515   39  Female      Yes        Yes                Yes       No        Yes   \n",
            "516   48  Female      Yes        Yes                Yes      Yes        Yes   \n",
            "517   58  Female      Yes        Yes                Yes      Yes        Yes   \n",
            "518   32  Female       No         No                 No      Yes         No   \n",
            "519   42    Male       No         No                 No       No         No   \n",
            "\n",
            "    Genital thrush visual blurring Itching Irritability delayed healing  \\\n",
            "0               No              No     Yes           No             Yes   \n",
            "1               No             Yes      No           No              No   \n",
            "2               No              No     Yes           No             Yes   \n",
            "3              Yes              No     Yes           No             Yes   \n",
            "4               No             Yes     Yes          Yes             Yes   \n",
            "..             ...             ...     ...          ...             ...   \n",
            "515             No              No     Yes           No             Yes   \n",
            "516             No              No     Yes          Yes             Yes   \n",
            "517             No             Yes      No           No              No   \n",
            "518             No             Yes     Yes           No             Yes   \n",
            "519             No              No      No           No              No   \n",
            "\n",
            "    partial paresis muscle stiffness Alopecia Obesity     class  \n",
            "0                No              Yes      Yes     Yes  Positive  \n",
            "1               Yes               No      Yes      No  Positive  \n",
            "2                No              Yes      Yes      No  Positive  \n",
            "3                No               No       No      No  Positive  \n",
            "4               Yes              Yes      Yes     Yes  Positive  \n",
            "..              ...              ...      ...     ...       ...  \n",
            "515             Yes               No       No      No  Positive  \n",
            "516             Yes               No       No      No  Positive  \n",
            "517             Yes              Yes       No     Yes  Positive  \n",
            "518              No               No      Yes      No  Negative  \n",
            "519              No               No       No      No  Negative  \n",
            "\n",
            "[520 rows x 17 columns]\n"
          ]
        }
      ]
    },
    {
      "cell_type": "code",
      "source": [
        "y = df['class']\n",
        "x = df.drop('class', axis=1)\n",
        "print(\"Features:\",x)\n",
        "print(\"Target:\",y)"
      ],
      "metadata": {
        "colab": {
          "base_uri": "https://localhost:8080/"
        },
        "id": "HbP511upyRWR",
        "outputId": "95e7a2a9-ba28-4f87-e749-0cb0298fed96"
      },
      "execution_count": 10,
      "outputs": [
        {
          "output_type": "stream",
          "name": "stdout",
          "text": [
            "Features:      Age  Gender Polyuria Polydipsia sudden weight loss weakness Polyphagia  \\\n",
            "0     40    Male       No        Yes                 No      Yes         No   \n",
            "1     58    Male       No         No                 No      Yes         No   \n",
            "2     41    Male      Yes         No                 No      Yes        Yes   \n",
            "3     45    Male       No         No                Yes      Yes        Yes   \n",
            "4     60    Male      Yes        Yes                Yes      Yes        Yes   \n",
            "..   ...     ...      ...        ...                ...      ...        ...   \n",
            "515   39  Female      Yes        Yes                Yes       No        Yes   \n",
            "516   48  Female      Yes        Yes                Yes      Yes        Yes   \n",
            "517   58  Female      Yes        Yes                Yes      Yes        Yes   \n",
            "518   32  Female       No         No                 No      Yes         No   \n",
            "519   42    Male       No         No                 No       No         No   \n",
            "\n",
            "    Genital thrush visual blurring Itching Irritability delayed healing  \\\n",
            "0               No              No     Yes           No             Yes   \n",
            "1               No             Yes      No           No              No   \n",
            "2               No              No     Yes           No             Yes   \n",
            "3              Yes              No     Yes           No             Yes   \n",
            "4               No             Yes     Yes          Yes             Yes   \n",
            "..             ...             ...     ...          ...             ...   \n",
            "515             No              No     Yes           No             Yes   \n",
            "516             No              No     Yes          Yes             Yes   \n",
            "517             No             Yes      No           No              No   \n",
            "518             No             Yes     Yes           No             Yes   \n",
            "519             No              No      No           No              No   \n",
            "\n",
            "    partial paresis muscle stiffness Alopecia Obesity  \n",
            "0                No              Yes      Yes     Yes  \n",
            "1               Yes               No      Yes      No  \n",
            "2                No              Yes      Yes      No  \n",
            "3                No               No       No      No  \n",
            "4               Yes              Yes      Yes     Yes  \n",
            "..              ...              ...      ...     ...  \n",
            "515             Yes               No       No      No  \n",
            "516             Yes               No       No      No  \n",
            "517             Yes              Yes       No     Yes  \n",
            "518              No               No      Yes      No  \n",
            "519              No               No       No      No  \n",
            "\n",
            "[520 rows x 16 columns]\n",
            "Target: 0      Positive\n",
            "1      Positive\n",
            "2      Positive\n",
            "3      Positive\n",
            "4      Positive\n",
            "         ...   \n",
            "515    Positive\n",
            "516    Positive\n",
            "517    Positive\n",
            "518    Negative\n",
            "519    Negative\n",
            "Name: class, Length: 520, dtype: object\n"
          ]
        }
      ]
    },
    {
      "cell_type": "code",
      "source": [
        "yes_no_columns = ['Polyuria', 'Polydipsia', 'sudden weight loss', 'weakness', 'Polyphagia',\n",
        "                  'Genital thrush', 'visual blurring', 'Itching', 'Irritability',\n",
        "                                    'delayed healing', 'partial paresis', 'muscle stiffness', 'Alopecia', 'Obesity']\n",
        "x = x.replace({'Gender': {'Male': 0, 'Female': 1}})\n",
        "x[yes_no_columns] = x[yes_no_columns].replace({'Yes': 1, 'No': 0})\n",
        "print(x)\n",
        "y = y.replace({'Positive': 0, 'Negative': 1})\n",
        "print(y)"
      ],
      "metadata": {
        "colab": {
          "base_uri": "https://localhost:8080/"
        },
        "id": "i1qJ-sIh3Qxq",
        "outputId": "d2ce6290-b8fb-471f-eba3-9009275cfca9"
      },
      "execution_count": 13,
      "outputs": [
        {
          "output_type": "stream",
          "name": "stdout",
          "text": [
            "     Age  Gender  Polyuria  Polydipsia  sudden weight loss  weakness  \\\n",
            "0     40       0         0           1                   0         1   \n",
            "1     58       0         0           0                   0         1   \n",
            "2     41       0         1           0                   0         1   \n",
            "3     45       0         0           0                   1         1   \n",
            "4     60       0         1           1                   1         1   \n",
            "..   ...     ...       ...         ...                 ...       ...   \n",
            "515   39       1         1           1                   1         0   \n",
            "516   48       1         1           1                   1         1   \n",
            "517   58       1         1           1                   1         1   \n",
            "518   32       1         0           0                   0         1   \n",
            "519   42       0         0           0                   0         0   \n",
            "\n",
            "     Polyphagia  Genital thrush  visual blurring  Itching  Irritability  \\\n",
            "0             0               0                0        1             0   \n",
            "1             0               0                1        0             0   \n",
            "2             1               0                0        1             0   \n",
            "3             1               1                0        1             0   \n",
            "4             1               0                1        1             1   \n",
            "..          ...             ...              ...      ...           ...   \n",
            "515           1               0                0        1             0   \n",
            "516           1               0                0        1             1   \n",
            "517           1               0                1        0             0   \n",
            "518           0               0                1        1             0   \n",
            "519           0               0                0        0             0   \n",
            "\n",
            "     delayed healing  partial paresis  muscle stiffness  Alopecia  Obesity  \n",
            "0                  1                0                 1         1        1  \n",
            "1                  0                1                 0         1        0  \n",
            "2                  1                0                 1         1        0  \n",
            "3                  1                0                 0         0        0  \n",
            "4                  1                1                 1         1        1  \n",
            "..               ...              ...               ...       ...      ...  \n",
            "515                1                1                 0         0        0  \n",
            "516                1                1                 0         0        0  \n",
            "517                0                1                 1         0        1  \n",
            "518                1                0                 0         1        0  \n",
            "519                0                0                 0         0        0  \n",
            "\n",
            "[520 rows x 16 columns]\n",
            "0      0\n",
            "1      0\n",
            "2      0\n",
            "3      0\n",
            "4      0\n",
            "      ..\n",
            "515    0\n",
            "516    0\n",
            "517    0\n",
            "518    1\n",
            "519    1\n",
            "Name: class, Length: 520, dtype: int64\n"
          ]
        }
      ]
    },
    {
      "cell_type": "code",
      "source": [
        "# Normalize the data\n",
        "x = (x - x.min()) / (x.max() - x.min())\n",
        "# Fill null values (if any)\n",
        "x.fillna(0, inplace=True)\n",
        "print(\"Normalized Features:\", x)"
      ],
      "metadata": {
        "colab": {
          "base_uri": "https://localhost:8080/"
        },
        "id": "jS9I4jKM3Vyt",
        "outputId": "be28fe8a-ccce-452a-8625-08b6a1a0e76f"
      },
      "execution_count": 14,
      "outputs": [
        {
          "output_type": "stream",
          "name": "stdout",
          "text": [
            "Normalized Features:           Age  Gender  Polyuria  Polydipsia  sudden weight loss  weakness  \\\n",
            "0    0.324324     0.0       0.0         1.0                 0.0       1.0   \n",
            "1    0.567568     0.0       0.0         0.0                 0.0       1.0   \n",
            "2    0.337838     0.0       1.0         0.0                 0.0       1.0   \n",
            "3    0.391892     0.0       0.0         0.0                 1.0       1.0   \n",
            "4    0.594595     0.0       1.0         1.0                 1.0       1.0   \n",
            "..        ...     ...       ...         ...                 ...       ...   \n",
            "515  0.310811     1.0       1.0         1.0                 1.0       0.0   \n",
            "516  0.432432     1.0       1.0         1.0                 1.0       1.0   \n",
            "517  0.567568     1.0       1.0         1.0                 1.0       1.0   \n",
            "518  0.216216     1.0       0.0         0.0                 0.0       1.0   \n",
            "519  0.351351     0.0       0.0         0.0                 0.0       0.0   \n",
            "\n",
            "     Polyphagia  Genital thrush  visual blurring  Itching  Irritability  \\\n",
            "0           0.0             0.0              0.0      1.0           0.0   \n",
            "1           0.0             0.0              1.0      0.0           0.0   \n",
            "2           1.0             0.0              0.0      1.0           0.0   \n",
            "3           1.0             1.0              0.0      1.0           0.0   \n",
            "4           1.0             0.0              1.0      1.0           1.0   \n",
            "..          ...             ...              ...      ...           ...   \n",
            "515         1.0             0.0              0.0      1.0           0.0   \n",
            "516         1.0             0.0              0.0      1.0           1.0   \n",
            "517         1.0             0.0              1.0      0.0           0.0   \n",
            "518         0.0             0.0              1.0      1.0           0.0   \n",
            "519         0.0             0.0              0.0      0.0           0.0   \n",
            "\n",
            "     delayed healing  partial paresis  muscle stiffness  Alopecia  Obesity  \n",
            "0                1.0              0.0               1.0       1.0      1.0  \n",
            "1                0.0              1.0               0.0       1.0      0.0  \n",
            "2                1.0              0.0               1.0       1.0      0.0  \n",
            "3                1.0              0.0               0.0       0.0      0.0  \n",
            "4                1.0              1.0               1.0       1.0      1.0  \n",
            "..               ...              ...               ...       ...      ...  \n",
            "515              1.0              1.0               0.0       0.0      0.0  \n",
            "516              1.0              1.0               0.0       0.0      0.0  \n",
            "517              0.0              1.0               1.0       0.0      1.0  \n",
            "518              1.0              0.0               0.0       1.0      0.0  \n",
            "519              0.0              0.0               0.0       0.0      0.0  \n",
            "\n",
            "[520 rows x 16 columns]\n"
          ]
        }
      ]
    },
    {
      "cell_type": "code",
      "source": [
        "def initialize_parameters(n_features):\n",
        "  weights = np.zeros(n_features)\n",
        "  bias = 0\n",
        "  learning_rate = 0.01\n",
        "  return weights, bias, learning_rate\n",
        "n_features = x.shape[1]\n",
        "weights, bias, learning_rate = initialize_parameters(n_features)"
      ],
      "metadata": {
        "id": "4HcB80UB3aU3"
      },
      "execution_count": 15,
      "outputs": []
    },
    {
      "cell_type": "code",
      "source": [
        "def perceptron_train(X, y, weights, bias, learning_rate, epochs):\n",
        "  for epoch in range(epochs):\n",
        "    for i in range(len(y)):\n",
        "      linear_output = np.dot(x.iloc[i], weights) + bias\n",
        "      prediction = 1 if linear_output >= 0 else 0\n",
        "      error = y.iloc[i] - prediction\n",
        "      weights += learning_rate * error * x.iloc[i]\n",
        "    if epoch % 100 == 0:\n",
        "      print(f'Epoch {epoch}: Weights: {weights}, Bias: {bias}')\n",
        "    return weights, bias\n",
        "epochs = 1000\n",
        "weights, bias = perceptron_train(x, y, weights, bias, learning_rate, epochs)\n",
        "print(\"Trained Weights:\", weights)"
      ],
      "metadata": {
        "colab": {
          "base_uri": "https://localhost:8080/"
        },
        "id": "H99B4Jre3e5C",
        "outputId": "46aa58fe-222b-47e7-9954-321c12caa18a"
      },
      "execution_count": 16,
      "outputs": [
        {
          "output_type": "stream",
          "name": "stdout",
          "text": [
            "Epoch 0: Weights: Age                   0.026757\n",
            "Gender               -0.030000\n",
            "Polyuria             -0.040000\n",
            "Polydipsia           -0.030000\n",
            "sudden weight loss    0.000000\n",
            "weakness             -0.010000\n",
            "Polyphagia            0.020000\n",
            "Genital thrush        0.000000\n",
            "visual blurring       0.010000\n",
            "Itching               0.020000\n",
            "Irritability         -0.010000\n",
            "delayed healing       0.010000\n",
            "partial paresis       0.000000\n",
            "muscle stiffness      0.020000\n",
            "Alopecia              0.000000\n",
            "Obesity               0.010000\n",
            "Name: 0, dtype: float64, Bias: 0\n",
            "Trained Weights: Age                   0.026757\n",
            "Gender               -0.030000\n",
            "Polyuria             -0.040000\n",
            "Polydipsia           -0.030000\n",
            "sudden weight loss    0.000000\n",
            "weakness             -0.010000\n",
            "Polyphagia            0.020000\n",
            "Genital thrush        0.000000\n",
            "visual blurring       0.010000\n",
            "Itching               0.020000\n",
            "Irritability         -0.010000\n",
            "delayed healing       0.010000\n",
            "partial paresis       0.000000\n",
            "muscle stiffness      0.020000\n",
            "Alopecia              0.000000\n",
            "Obesity               0.010000\n",
            "Name: 0, dtype: float64\n"
          ]
        }
      ]
    },
    {
      "cell_type": "code",
      "source": [
        "def predict(x, weights, bias):\n",
        "  linear_output = np.dot(x, weights) + bias\n",
        "  return (linear_output >= 0).astype(int)\n",
        "predictions = predict(x, weights, bias)\n",
        "accuracy = np.mean(predictions == y) * 100\n",
        "print(\"\\nAccuracy: {:.2f}%\".format(accuracy))\n",
        "print(weights)"
      ],
      "metadata": {
        "colab": {
          "base_uri": "https://localhost:8080/"
        },
        "id": "RSJpTjah3hey",
        "outputId": "c5581b8e-d3de-4236-f1a2-890b7924aabc"
      },
      "execution_count": 17,
      "outputs": [
        {
          "output_type": "stream",
          "name": "stdout",
          "text": [
            "\n",
            "Accuracy: 81.54%\n",
            "Age                   0.026757\n",
            "Gender               -0.030000\n",
            "Polyuria             -0.040000\n",
            "Polydipsia           -0.030000\n",
            "sudden weight loss    0.000000\n",
            "weakness             -0.010000\n",
            "Polyphagia            0.020000\n",
            "Genital thrush        0.000000\n",
            "visual blurring       0.010000\n",
            "Itching               0.020000\n",
            "Irritability         -0.010000\n",
            "delayed healing       0.010000\n",
            "partial paresis       0.000000\n",
            "muscle stiffness      0.020000\n",
            "Alopecia              0.000000\n",
            "Obesity               0.010000\n",
            "Name: 0, dtype: float64\n"
          ]
        }
      ]
    }
  ]
}