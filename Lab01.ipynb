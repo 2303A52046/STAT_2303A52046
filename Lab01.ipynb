{
  "nbformat": 4,
  "nbformat_minor": 0,
  "metadata": {
    "colab": {
      "provenance": []
    },
    "kernelspec": {
      "name": "python3",
      "display_name": "Python 3"
    },
    "language_info": {
      "name": "python"
    }
  },
  "cells": [
    {
      "cell_type": "markdown",
      "source": [],
      "metadata": {
        "id": "NY0VHMH4TBB2"
      }
    },
    {
      "cell_type": "markdown",
      "source": [
        "X = [2.3,2.5,3.6,2.8,3.1,2.9,3.2,2.7,2.8,3.0]\n",
        "bins=5"
      ],
      "metadata": {
        "id": "qAl47z52TCmY"
      }
    },
    {
      "cell_type": "code",
      "source": [
        "import matplotlib.pyplot as plt\n",
        "import numpy as np\n",
        "X={2.3,2.5,3.6,2.8,3.1,2.9,3.2,2.7,2.8,3.0}\n",
        "\n",
        "plt.hist(X, bins=5, density = True, alpha = 1, color = 'green', edgecolor = 'black')\n",
        "\n",
        "plt.grid(True)\n",
        "plt.xlabel('Value')\n",
        "plt.ylabel('Density')\n",
        "plt.title('Histogram Respresentation')\n",
        "plt.show()"
      ],
      "metadata": {
        "colab": {
          "base_uri": "https://localhost:8080/",
          "height": 472
        },
        "id": "mXXluJ3DdRhF",
        "outputId": "a23ffc76-7955-4e10-9821-f5edfec31192"
      },
      "execution_count": null,
      "outputs": [
        {
          "output_type": "display_data",
          "data": {
            "text/plain": [
              "<Figure size 640x480 with 1 Axes>"
            ],
            "image/png": "[encoded data removed]"
          },
          "metadata": {}
        }
      ]
    },
    {
      "cell_type": "markdown",
      "source": [
        "Find Mean, Median, Mode , Variance , Standard deviation , Range , Interquartile Range (IQR),\n",
        "Skewness ,Kurtosis of x and y.\n",
        "Dependant_variables = [4,5,8,2,4,2,5]\n",
        "Independable_variabless = [5,6,3,8,3,7,8]"
      ],
      "metadata": {
        "id": "z0qNtPpTVuUP"
      }
    },
    {
      "cell_type": "code",
      "source": [
        "import numpy as np\n",
        "\n",
        "Dependant_variables = [4,5,8,2,4,2,5]\n",
        "Independable_variables = [5,6,3,8,3,7,8]\n",
        "#For Dependant Variables\n",
        "DE_mean = np.mean(Dependant_variables)\n",
        "DE_median = np.median(Dependant_variables)\n",
        "DE_mode = stats.mode(Dependant_variables)\n",
        "DE_variance = np.var(Dependant_variables)\n",
        "DE_std = np.std(Dependant_variables)\n",
        "DE_range = np.max(Dependant_variables) - np.min(Dependant_variables)\n",
        "DE_IQR = stats.iqr(Dependant_variables)\n",
        "DE_skewness = stats.skew(Dependant_variables)\n",
        "DE_kurtosis = stats.kurtosis(Dependant_variables)\n",
        "'''NOW PRINT THE RESULTS'''\n",
        "print(\"Mean of Dependable Variables: \", DE_mean)\n",
        "print(\"Median of Dependable Variables: \", DE_median)\n",
        "print(\"Mode of Dependable Variables: \", DE_mode)\n",
        "print(\"Variance of Dependable Variables: \", DE_variance)\n",
        "print(\"Standard Deviation of Dependable Variables: \", DE_std)\n",
        "print(\"Range of Dependable Variables: \", DE_range)\n",
        "print(\"IQR of Dependable Variables: \", DE_IQR)\n",
        "print(\"Skewness of Dependable Variables: \", DE_skewness)\n",
        "print(\"Kurtosis of Dependable Variables: \", DE_kurtosis)\n",
        "print()\n",
        "#For Independable Variables\n",
        "IN_mean = np.mean(Independable_variables)\n",
        "IN_median = np.median(Independable_variables)\n",
        "IN_mode = stats.mode(Independable_variables)\n",
        "IN_variance = np.var(Independable_variables)\n",
        "IN_std = np.std(Independable_variables)\n",
        "IN_range = np.max(Independable_variables) - np.min(Independable_variables)\n",
        "IN_IQR = stats.iqr(Independable_variables)\n",
        "IN_skewness = stats.skew(Independable_variables)\n",
        "IN_kurtosis = stats.kurtosis(Independable_variables)\n",
        "'''NOW PRINT THE RESULTS'''\n",
        "print(\"Mean of Independable Variables: \", IN_mean)\n",
        "print(\"Median of Independable Variables: \", IN_median)\n",
        "print(\"Mode of Independable Variables: \", IN_mode)\n",
        "print(\"Variance of Independable Variables: \", IN_variance)\n",
        "print(\"Standard Deviation of Independable Variables: \", IN_std)\n",
        "print(\"Range of Independable Variables: \", IN_range)\n",
        "print(\"IQR of Independable Variables: \", IN_IQR)\n",
        "print(\"Skewness of Independable Variables: \", IN_skewness)\n",
        "print(\"Kurtosis of Independable Variables: \", IN_kurtosis)"
      ],
      "metadata": {
        "colab": {
          "base_uri": "https://localhost:8080/"
        },
        "id": "FTyMj0reVvhQ",
        "outputId": "149abbf4-2168-4afb-faee-c6988226a0f9"
      },
      "execution_count": null,
      "outputs": [
        {
          "output_type": "stream",
          "name": "stdout",
          "text": [
            "Mean of Dependable Variables:  4.285714285714286\n",
            "Median of Dependable Variables:  4.0\n",
            "Mode of Dependable Variables:  ModeResult(mode=2, count=2)\n",
            "Variance of Dependable Variables:  3.6326530612244894\n",
            "Standard Deviation of Dependable Variables:  1.9059520091609048\n",
            "Range of Dependable Variables:  6\n",
            "IQR of Dependable Variables:  2.0\n",
            "Skewness of Dependable Variables:  0.5785710902698393\n",
            "Kurtosis of Dependable Variables:  -0.34282287589950755\n",
            "\n",
            "Mean of Independable Variables:  5.714285714285714\n",
            "Median of Independable Variables:  6.0\n",
            "Mode of Independable Variables:  ModeResult(mode=3, count=2)\n",
            "Variance of Independable Variables:  3.918367346938776\n",
            "Standard Deviation of Independable Variables:  1.979486637221574\n",
            "Range of Independable Variables:  5\n",
            "IQR of Independable Variables:  3.5\n",
            "Skewness of Independable Variables:  -0.26386711521557127\n",
            "Kurtosis of Independable Variables:  -1.4541015625000002\n"
          ]
        }
      ]
    },
    {
      "cell_type": "markdown",
      "source": [
        "From the above data Find Mean, Median, Mode, Variance, Standard deviation, Range , Interquar tile Range (IQR), Skewness ,Kurtosis of each feature."
      ],
      "metadata": {
        "id": "P-xewBKUWfoE"
      }
    },
    {
      "cell_type": "code",
      "source": [
        "import numpy as np\n",
        "\n",
        "Dependant_variables = [4,5,8,2,4,2,5]\n",
        "Independable_variables = [5,6,3,8,3,7,8]\n",
        "#For Dependant Variables\n",
        "DE_mean = np.mean(Dependant_variables)\n",
        "DE_median = np.median(Dependant_variables)\n",
        "DE_mode = stats.mode(Dependant_variables)\n",
        "DE_variance = np.var(Dependant_variables)\n",
        "DE_std = np.std(Dependant_variables)\n",
        "DE_range = np.max(Dependant_variables) - np.min(Dependant_variables)\n",
        "DE_IQR = stats.iqr(Dependant_variables)\n",
        "DE_skewness = stats.skew(Dependant_variables)\n",
        "DE_kurtosis = stats.kurtosis(Dependant_variables)\n",
        "'''NOW PRINT THE RESULTS'''\n",
        "print(\"Mean of Dependable Variables: \", DE_mean)\n",
        "print(\"Median of Dependable Variables: \", DE_median)\n",
        "print(\"Mode of Dependable Variables: \", DE_mode)\n",
        "print(\"Variance of Dependable Variables: \", DE_variance)\n",
        "print(\"Standard Deviation of Dependable Variables: \", DE_std)\n",
        "print(\"Range of Dependable Variables: \", DE_range)\n",
        "print(\"IQR of Dependable Variables: \", DE_IQR)\n",
        "print(\"Skewness of Dependable Variables: \", DE_skewness)\n",
        "print(\"Kurtosis of Dependable Variables: \", DE_kurtosis)\n",
        "print()\n",
        "\n",
        "#For Independable Variables\n",
        "IN_mean = np.mean(Independable_variables)\n",
        "IN_median = np.median(Independable_variables)\n",
        "IN_mode = stats.mode(Independable_variables)\n",
        "IN_variance = np.var(Independable_variables)\n",
        "IN_std = np.std(Independable_variables)\n",
        "\n",
        "IN_range = np.max(Independable_variables) - np.min(Independable_variables)\n",
        "IN_IQR = stats.iqr(Independable_variables)\n",
        "IN_skewness = stats.skew(Independable_variables)\n",
        "IN_kurtosis = stats.kurtosis(Independable_variables)\n",
        "'''NOW PRINT THE RESULTS'''\n",
        "print(\"Mean of Independable Variables: \", IN_mean)\n",
        "print(\"Median of Independable Variables: \", IN_median)\n",
        "print(\"Mode of Independable Variables: \", IN_mode)\n",
        "print(\"Variance of Independable Variables: \", IN_variance)\n",
        "print(\"Standard Deviation of Independable Variables: \", IN_std)\n",
        "print(\"Range of Independable Variables: \", IN_range)\n",
        "print(\"IQR of Independable Variables: \", IN_IQR)\n",
        "print(\"Skewness of Independable Variables: \", IN_skewness)\n",
        "print(\"Kurtosis of Independable Variables: \", IN_kurtosis)\n"
      ],
      "metadata": {
        "colab": {
          "base_uri": "https://localhost:8080/"
        },
        "id": "rWp9v1sgWk9f",
        "outputId": "a6f0066f-c1c1-4e95-a673-d5322a55d8ab"
      },
      "execution_count": null,
      "outputs": [
        {
          "output_type": "stream",
          "name": "stdout",
          "text": [
            "Mean of Dependable Variables:  4.285714285714286\n",
            "Median of Dependable Variables:  4.0\n",
            "Mode of Dependable Variables:  ModeResult(mode=2, count=2)\n",
            "Variance of Dependable Variables:  3.6326530612244894\n",
            "Standard Deviation of Dependable Variables:  1.9059520091609048\n",
            "Range of Dependable Variables:  6\n",
            "IQR of Dependable Variables:  2.0\n",
            "Skewness of Dependable Variables:  0.5785710902698393\n",
            "Kurtosis of Dependable Variables:  -0.34282287589950755\n",
            "\n",
            "Mean of Independable Variables:  5.714285714285714\n",
            "Median of Independable Variables:  6.0\n",
            "Mode of Independable Variables:  ModeResult(mode=3, count=2)\n",
            "Variance of Independable Variables:  3.918367346938776\n",
            "Standard Deviation of Independable Variables:  1.979486637221574\n",
            "Range of Independable Variables:  5\n",
            "IQR of Independable Variables:  3.5\n",
            "Skewness of Independable Variables:  -0.26386711521557127\n",
            "Kurtosis of Independable Variables:  -1.4541015625000002\n"
          ]
        }
      ]
    },
    {
      "cell_type": "markdown",
      "source": [
        "From the above data Find Mean, Median, Mode, Variance, Standard deviation, Range , Interquartile Range (IQR), Skewness ,Kurtosis of each feature."
      ],
      "metadata": {
        "id": "je6EkC7cZSzk"
      }
    },
    {
      "cell_type": "code",
      "source": [
        "import numpy as np\n",
        "333\n",
        "import pandas as pd\n",
        "data = pd.read_csv('/content/sample_data/california_housing_test.csv')\n",
        "data.head()"
      ],
      "metadata": {
        "colab": {
          "base_uri": "https://localhost:8080/",
          "height": 206
        },
        "id": "Kd3ILtUkZWxM",
        "outputId": "e1a1f44b-949f-48a0-bcdf-cf8c6e89ece3"
      },
      "execution_count": null,
      "outputs": [
        {
          "output_type": "execute_result",
          "data": {
            "text/plain": [
              "   longitude  latitude  housing_median_age  total_rooms  total_bedrooms  \\\n",
              "0    -122.05     37.37                27.0       3885.0           661.0   \n",
              "1    -118.30     34.26                43.0       1510.0           310.0   \n",
              "2    -117.81     33.78                27.0       3589.0           507.0   \n",
              "3    -118.36     33.82                28.0         67.0            15.0   \n",
              "4    -119.67     36.33                19.0       1241.0           244.0   \n",
              "\n",
              "   population  households  median_income  median_house_value  \n",
              "0      1537.0       606.0         6.6085            344700.0  \n",
              "1       809.0       277.0         3.5990            176500.0  \n",
              "2      1484.0       495.0         5.7934            270500.0  \n",
              "3        49.0        11.0         6.1359            330000.0  \n",
              "4       850.0       237.0         2.9375             81700.0  "
            ],
            "text/html": [
              "\n",
              "  <div id=\"df-4591d67c-f2d0-4034-900d-294e766f64de\" class=\"colab-df-container\">\n",
              "    <div>\n",
              "<style scoped>\n",
              "    .dataframe tbody tr th:only-of-type {\n",
              "        vertical-align: middle;\n",
              "    }\n",
              "\n",
              "    .dataframe tbody tr th {\n",
              "        vertical-align: top;\n",
              "    }\n",
              "\n",
              "    .dataframe thead th {\n",
              "        text-align: right;\n",
              "    }\n",
              "</style>\n",
              "<table border=\"1\" class=\"dataframe\">\n",
              "  <thead>\n",
              "    <tr style=\"text-align: right;\">\n",
              "      <th></th>\n",
              "      <th>longitude</th>\n",
              "      <th>latitude</th>\n",
              "      <th>housing_median_age</th>\n",
              "      <th>total_rooms</th>\n",
              "      <th>total_bedrooms</th>\n",
              "      <th>population</th>\n",
              "      <th>households</th>\n",
              "      <th>median_income</th>\n",
              "      <th>median_house_value</th>\n",
              "    </tr>\n",
              "  </thead>\n",
              "  <tbody>\n",
              "    <tr>\n",
              "      <th>0</th>\n",
              "      <td>-122.05</td>\n",
              "      <td>37.37</td>\n",
              "      <td>27.0</td>\n",
              "      <td>3885.0</td>\n",
              "      <td>661.0</td>\n",
              "      <td>1537.0</td>\n",
              "      <td>606.0</td>\n",
              "      <td>6.6085</td>\n",
              "      <td>344700.0</td>\n",
              "    </tr>\n",
              "    <tr>\n",
              "      <th>1</th>\n",
              "      <td>-118.30</td>\n",
              "      <td>34.26</td>\n",
              "      <td>43.0</td>\n",
              "      <td>1510.0</td>\n",
              "      <td>310.0</td>\n",
              "      <td>809.0</td>\n",
              "      <td>277.0</td>\n",
              "      <td>3.5990</td>\n",
              "      <td>176500.0</td>\n",
              "    </tr>\n",
              "    <tr>\n",
              "      <th>2</th>\n",
              "      <td>-117.81</td>\n",
              "      <td>33.78</td>\n",
              "      <td>27.0</td>\n",
              "      <td>3589.0</td>\n",
              "      <td>507.0</td>\n",
              "      <td>1484.0</td>\n",
              "      <td>495.0</td>\n",
              "      <td>5.7934</td>\n",
              "      <td>270500.0</td>\n",
              "    </tr>\n",
              "    <tr>\n",
              "      <th>3</th>\n",
              "      <td>-118.36</td>\n",
              "      <td>33.82</td>\n",
              "      <td>28.0</td>\n",
              "      <td>67.0</td>\n",
              "      <td>15.0</td>\n",
              "      <td>49.0</td>\n",
              "      <td>11.0</td>\n",
              "      <td>6.1359</td>\n",
              "      <td>330000.0</td>\n",
              "    </tr>\n",
              "    <tr>\n",
              "      <th>4</th>\n",
              "      <td>-119.67</td>\n",
              "      <td>36.33</td>\n",
              "      <td>19.0</td>\n",
              "      <td>1241.0</td>\n",
              "      <td>244.0</td>\n",
              "      <td>850.0</td>\n",
              "      <td>237.0</td>\n",
              "      <td>2.9375</td>\n",
              "      <td>81700.0</td>\n",
              "    </tr>\n",
              "  </tbody>\n",
              "</table>\n",
              "</div>\n",
              "    <div class=\"colab-df-buttons\">\n",
              "\n",
              "  <div class=\"colab-df-container\">\n",
              "    <button class=\"colab-df-convert\" onclick=\"convertToInteractive('df-4591d67c-f2d0-4034-900d-294e766f64de')\"\n",
              "            title=\"Convert this dataframe to an interactive table.\"\n",
              "            style=\"display:none;\">\n",
              "\n",
              "  <svg xmlns=\"http://www.w3.org/2000/svg\" height=\"24px\" viewBox=\"0 -960 960 960\">\n",
              "    <path d=\"M120-120v-720h720v720H120Zm60-500h600v-160H180v160Zm220 220h160v-160H400v160Zm0 220h160v-160H400v160ZM180-400h160v-160H180v160Zm440 0h160v-160H620v160ZM180-180h160v-160H180v160Zm440 0h160v-160H620v160Z\"/>\n",
              "  </svg>\n",
              "    </button>\n",
              "\n",
              "  <style>\n",
              "    .colab-df-container {\n",
              "      display:flex;\n",
              "      gap: 12px;\n",
              "    }\n",
              "\n",
              "    .colab-df-convert {\n",
              "      background-color: #E8F0FE;\n",
              "      border: none;\n",
              "      border-radius: 50%;\n",
              "      cursor: pointer;\n",
              "      display: none;\n",
              "      fill: #1967D2;\n",
              "      height: 32px;\n",
              "      padding: 0 0 0 0;\n",
              "      width: 32px;\n",
              "    }\n",
              "\n",
              "    .colab-df-convert:hover {\n",
              "      background-color: #E2EBFA;\n",
              "      box-shadow: 0px 1px 2px rgba(60, 64, 67, 0.3), 0px 1px 3px 1px rgba(60, 64, 67, 0.15);\n",
              "      fill: #174EA6;\n",
              "    }\n",
              "\n",
              "    .colab-df-buttons div {\n",
              "      margin-bottom: 4px;\n",
              "    }\n",
              "\n",
              "    [theme=dark] .colab-df-convert {\n",
              "      background-color: #3B4455;\n",
              "      fill: #D2E3FC;\n",
              "    }\n",
              "\n",
              "    [theme=dark] .colab-df-convert:hover {\n",
              "      background-color: #434B5C;\n",
              "      box-shadow: 0px 1px 3px 1px rgba(0, 0, 0, 0.15);\n",
              "      filter: drop-shadow(0px 1px 2px rgba(0, 0, 0, 0.3));\n",
              "      fill: #FFFFFF;\n",
              "    }\n",
              "  </style>\n",
              "\n",
              "    <script>\n",
              "      const buttonEl =\n",
              "        document.querySelector('#df-4591d67c-f2d0-4034-900d-294e766f64de button.colab-df-convert');\n",
              "      buttonEl.style.display =\n",
              "        google.colab.kernel.accessAllowed ? 'block' : 'none';\n",
              "\n",
              "      async function convertToInteractive(key) {\n",
              "        const element = document.querySelector('#df-4591d67c-f2d0-4034-900d-294e766f64de');\n",
              "        const dataTable =\n",
              "          await google.colab.kernel.invokeFunction('convertToInteractive',\n",
              "                                                    [key], {});\n",
              "        if (!dataTable) return;\n",
              "\n",
              "        const docLinkHtml = 'Like what you see? Visit the ' +\n",
              "          '<a target=\"_blank\" href=https://colab.research.google.com/notebooks/data_table.ipynb>data table notebook</a>'\n",
              "          + ' to learn more about interactive tables.';\n",
              "        element.innerHTML = '';\n",
              "        dataTable['output_type'] = 'display_data';\n",
              "        await google.colab.output.renderOutput(dataTable, element);\n",
              "        const docLink = document.createElement('div');\n",
              "        docLink.innerHTML = docLinkHtml;\n",
              "        element.appendChild(docLink);\n",
              "      }\n",
              "    </script>\n",
              "  </div>\n",
              "\n",
              "\n",
              "<div id=\"df-bb60f73b-bd17-4d78-9278-1b521f4e1d39\">\n",
              "  <button class=\"colab-df-quickchart\" onclick=\"quickchart('df-bb60f73b-bd17-4d78-9278-1b521f4e1d39')\"\n",
              "            title=\"Suggest charts\"\n",
              "            style=\"display:none;\">\n",
              "\n",
              "<svg xmlns=\"http://www.w3.org/2000/svg\" height=\"24px\"viewBox=\"0 0 24 24\"\n",
              "     width=\"24px\">\n",
              "    <g>\n",
              "        <path d=\"M19 3H5c-1.1 0-2 .9-2 2v14c0 1.1.9 2 2 2h14c1.1 0 2-.9 2-2V5c0-1.1-.9-2-2-2zM9 17H7v-7h2v7zm4 0h-2V7h2v10zm4 0h-2v-4h2v4z\"/>\n",
              "    </g>\n",
              "</svg>\n",
              "  </button>\n",
              "\n",
              "<style>\n",
              "  .colab-df-quickchart {\n",
              "      --bg-color: #E8F0FE;\n",
              "      --fill-color: #1967D2;\n",
              "      --hover-bg-color: #E2EBFA;\n",
              "      --hover-fill-color: #174EA6;\n",
              "      --disabled-fill-color: #AAA;\n",
              "      --disabled-bg-color: #DDD;\n",
              "  }\n",
              "\n",
              "  [theme=dark] .colab-df-quickchart {\n",
              "      --bg-color: #3B4455;\n",
              "      --fill-color: #D2E3FC;\n",
              "      --hover-bg-color: #434B5C;\n",
              "      --hover-fill-color: #FFFFFF;\n",
              "      --disabled-bg-color: #3B4455;\n",
              "      --disabled-fill-color: #666;\n",
              "  }\n",
              "\n",
              "  .colab-df-quickchart {\n",
              "    background-color: var(--bg-color);\n",
              "    border: none;\n",
              "    border-radius: 50%;\n",
              "    cursor: pointer;\n",
              "    display: none;\n",
              "    fill: var(--fill-color);\n",
              "    height: 32px;\n",
              "    padding: 0;\n",
              "    width: 32px;\n",
              "  }\n",
              "\n",
              "  .colab-df-quickchart:hover {\n",
              "    background-color: var(--hover-bg-color);\n",
              "    box-shadow: 0 1px 2px rgba(60, 64, 67, 0.3), 0 1px 3px 1px rgba(60, 64, 67, 0.15);\n",
              "    fill: var(--button-hover-fill-color);\n",
              "  }\n",
              "\n",
              "  .colab-df-quickchart-complete:disabled,\n",
              "  .colab-df-quickchart-complete:disabled:hover {\n",
              "    background-color: var(--disabled-bg-color);\n",
              "    fill: var(--disabled-fill-color);\n",
              "    box-shadow: none;\n",
              "  }\n",
              "\n",
              "  .colab-df-spinner {\n",
              "    border: 2px solid var(--fill-color);\n",
              "    border-color: transparent;\n",
              "    border-bottom-color: var(--fill-color);\n",
              "    animation:\n",
              "      spin 1s steps(1) infinite;\n",
              "  }\n",
              "\n",
              "  @keyframes spin {\n",
              "    0% {\n",
              "      border-color: transparent;\n",
              "      border-bottom-color: var(--fill-color);\n",
              "      border-left-color: var(--fill-color);\n",
              "    }\n",
              "    20% {\n",
              "      border-color: transparent;\n",
              "      border-left-color: var(--fill-color);\n",
              "      border-top-color: var(--fill-color);\n",
              "    }\n",
              "    30% {\n",
              "      border-color: transparent;\n",
              "      border-left-color: var(--fill-color);\n",
              "      border-top-color: var(--fill-color);\n",
              "      border-right-color: var(--fill-color);\n",
              "    }\n",
              "    40% {\n",
              "      border-color: transparent;\n",
              "      border-right-color: var(--fill-color);\n",
              "      border-top-color: var(--fill-color);\n",
              "    }\n",
              "    60% {\n",
              "      border-color: transparent;\n",
              "      border-right-color: var(--fill-color);\n",
              "    }\n",
              "    80% {\n",
              "      border-color: transparent;\n",
              "      border-right-color: var(--fill-color);\n",
              "      border-bottom-color: var(--fill-color);\n",
              "    }\n",
              "    90% {\n",
              "      border-color: transparent;\n",
              "      border-bottom-color: var(--fill-color);\n",
              "    }\n",
              "  }\n",
              "</style>\n",
              "\n",
              "  <script>\n",
              "    async function quickchart(key) {\n",
              "      const quickchartButtonEl =\n",
              "        document.querySelector('#' + key + ' button');\n",
              "      quickchartButtonEl.disabled = true;  // To prevent multiple clicks.\n",
              "      quickchartButtonEl.classList.add('colab-df-spinner');\n",
              "      try {\n",
              "        const charts = await google.colab.kernel.invokeFunction(\n",
              "            'suggestCharts', [key], {});\n",
              "      } catch (error) {\n",
              "        console.error('Error during call to suggestCharts:', error);\n",
              "      }\n",
              "      quickchartButtonEl.classList.remove('colab-df-spinner');\n",
              "      quickchartButtonEl.classList.add('colab-df-quickchart-complete');\n",
              "    }\n",
              "    (() => {\n",
              "      let quickchartButtonEl =\n",
              "        document.querySelector('#df-bb60f73b-bd17-4d78-9278-1b521f4e1d39 button');\n",
              "      quickchartButtonEl.style.display =\n",
              "        google.colab.kernel.accessAllowed ? 'block' : 'none';\n",
              "    })();\n",
              "  </script>\n",
              "</div>\n",
              "\n",
              "    </div>\n",
              "  </div>\n"
            ],
            "application/vnd.google.colaboratory.intrinsic+json": {
              "type": "dataframe",
              "variable_name": "data",
              "summary": "{\n  \"name\": \"data\",\n  \"rows\": 3000,\n  \"fields\": [\n    {\n      \"column\": \"longitude\",\n      \"properties\": {\n        \"dtype\": \"number\",\n        \"std\": 1.9949362939550175,\n        \"min\": -124.18,\n        \"max\": -114.49,\n        \"num_unique_values\": 607,\n        \"samples\": [\n          -121.15,\n          -121.46,\n          -121.02\n        ],\n        \"semantic_type\": \"\",\n        \"description\": \"\"\n      }\n    },\n    {\n      \"column\": \"latitude\",\n      \"properties\": {\n        \"dtype\": \"number\",\n        \"std\": 2.129669523343834,\n        \"min\": 32.56,\n        \"max\": 41.92,\n        \"num_unique_values\": 587,\n        \"samples\": [\n          40.17,\n          33.69,\n          39.61\n        ],\n        \"semantic_type\": \"\",\n        \"description\": \"\"\n      }\n    },\n    {\n      \"column\": \"housing_median_age\",\n      \"properties\": {\n        \"dtype\": \"number\",\n        \"std\": 12.555395554955753,\n        \"min\": 1.0,\n        \"max\": 52.0,\n        \"num_unique_values\": 52,\n        \"samples\": [\n          14.0,\n          49.0,\n          7.0\n        ],\n        \"semantic_type\": \"\",\n        \"description\": \"\"\n      }\n    },\n    {\n      \"column\": \"total_rooms\",\n      \"properties\": {\n        \"dtype\": \"number\",\n        \"std\": 2155.593331625581,\n        \"min\": 6.0,\n        \"max\": 30450.0,\n        \"num_unique_values\": 2215,\n        \"samples\": [\n          1961.0,\n          1807.0,\n          680.0\n        ],\n        \"semantic_type\": \"\",\n        \"description\": \"\"\n      }\n    },\n    {\n      \"column\": \"total_bedrooms\",\n      \"properties\": {\n        \"dtype\": \"number\",\n        \"std\": 415.6543681363229,\n        \"min\": 2.0,\n        \"max\": 5419.0,\n        \"num_unique_values\": 1055,\n        \"samples\": [\n          532.0,\n          764.0,\n          2162.0\n        ],\n        \"semantic_type\": \"\",\n        \"description\": \"\"\n      }\n    },\n    {\n      \"column\": \"population\",\n      \"properties\": {\n        \"dtype\": \"number\",\n        \"std\": 1030.5430124122424,\n        \"min\": 5.0,\n        \"max\": 11935.0,\n        \"num_unique_values\": 1802,\n        \"samples\": [\n          947.0,\n          1140.0,\n          2019.0\n        ],\n        \"semantic_type\": \"\",\n        \"description\": \"\"\n      }\n    },\n    {\n      \"column\": \"households\",\n      \"properties\": {\n        \"dtype\": \"number\",\n        \"std\": 365.42270980552627,\n        \"min\": 2.0,\n        \"max\": 4930.0,\n        \"num_unique_values\": 1026,\n        \"samples\": [\n          646.0,\n          629.0,\n          504.0\n        ],\n        \"semantic_type\": \"\",\n        \"description\": \"\"\n      }\n    },\n    {\n      \"column\": \"median_income\",\n      \"properties\": {\n        \"dtype\": \"number\",\n        \"std\": 1.854511729691479,\n        \"min\": 0.4999,\n        \"max\": 15.0001,\n        \"num_unique_values\": 2578,\n        \"samples\": [\n          1.725,\n          0.7403,\n          2.6964\n        ],\n        \"semantic_type\": \"\",\n        \"description\": \"\"\n      }\n    },\n    {\n      \"column\": \"median_house_value\",\n      \"properties\": {\n        \"dtype\": \"number\",\n        \"std\": 113119.68746964628,\n        \"min\": 22500.0,\n        \"max\": 500001.0,\n        \"num_unique_values\": 1784,\n        \"samples\": [\n          71900.0,\n          63000.0,\n          115800.0\n        ],\n        \"semantic_type\": \"\",\n        \"description\": \"\"\n      }\n    }\n  ]\n}"
            }
          },
          "metadata": {},
          "execution_count": 15
        }
      ]
    },
    {
      "cell_type": "markdown",
      "source": [
        "Mean of the Data"
      ],
      "metadata": {
        "id": "wImJr0e9Zs4B"
      }
    },
    {
      "cell_type": "code",
      "source": [
        "longitude_mean = np.mean(data['longitude'])\n",
        "latitude_mean = np.mean(data['latitude'])\n",
        "housing_median_age_mean = np.mean(data['housing_median_age'])\n",
        "total_rooms_mean = np.mean(data['total_rooms'])\n",
        "total_bedrooms_mean = np.mean(data['total_bedrooms'])\n",
        "population_mean = np.mean(data['population'])\n",
        "households_mean = np.mean(data['households'])\n",
        "median_income_mean = np.mean(data['median_income'])\n",
        "median_house_value_mean = np.mean(data['median_house_value'])\n",
        "print(\"Longitude Mean:\", longitude_mean)\n",
        "print(\"Latitude Mean:\", latitude_mean)\n",
        "print(\"Housing Median Age Mean:\", housing_median_age_mean)\n",
        "print(\"Total Rooms Mean:\", total_rooms_mean)\n",
        "print(\"Total Bedrooms Mean:\", total_bedrooms_mean)\n",
        "print(\"Population Mean:\", population_mean)\n",
        "print(\"Households Mean:\", households_mean)\n",
        "print(\"Median Income Mean:\", median_income_mean)\n",
        "print(\"Median House Value Mean:\", median_house_value_mean)\n"
      ],
      "metadata": {
        "colab": {
          "base_uri": "https://localhost:8080/"
        },
        "id": "E-l-vVnbZlwF",
        "outputId": "5ec4348c-68b6-4489-c1d5-38c90268f7e4"
      },
      "execution_count": null,
      "outputs": [
        {
          "output_type": "stream",
          "name": "stdout",
          "text": [
            "Longitude Mean: -119.58919999999999\n",
            "Latitude Mean: 35.635389999999994\n",
            "Housing Median Age Mean: 28.845333333333333\n",
            "Total Rooms Mean: 2599.578666666667\n",
            "Total Bedrooms Mean: 529.9506666666666\n",
            "Population Mean: 1402.7986666666666\n",
            "Households Mean: 489.912\n",
            "Median Income Mean: 3.8072717999999997\n",
            "Median House Value Mean: 205846.275\n"
          ]
        }
      ]
    },
    {
      "cell_type": "markdown",
      "source": [
        "Median of the Data"
      ],
      "metadata": {
        "id": "Ty89W2QxaI9z"
      }
    },
    {
      "cell_type": "code",
      "source": [
        "longitude_median = np.median(data['longitude'])\n",
        "latitude_median = np.median(data['latitude'])\n",
        "housing_median_age_median = np.median(data['housing_median_age'])\n",
        "total_rooms_median = np.median(data['total_rooms'])\n",
        "total_bedrooms_median = np.median(data['total_bedrooms'])\n",
        "population_median = np.median(data['population'])\n",
        "households_median = np.median(data['households'])\n",
        "median_income_median = np.median(data['median_income'])\n",
        "median_house_value_median = np.median(data['median_house_value'])\n",
        "print(\"Longitude Median:\", longitude_median)\n",
        "print(\"Latitude Median:\", latitude_median)\n",
        "print(\"Housing Median Age Median:\", housing_median_age_median)\n",
        "print(\"Total Rooms Median:\", total_rooms_median)\n",
        "print(\"Total Bedrooms Median:\", total_bedrooms_median)\n",
        "print(\"Population Median:\", population_median)\n",
        "print(\"Households Median:\", households_median)\n",
        "print(\"Median Income Median:\", median_income_median)\n",
        "print(\"Median House Value Median:\", median_house_value_median)"
      ],
      "metadata": {
        "colab": {
          "base_uri": "https://localhost:8080/"
        },
        "id": "abcy3AOvaKDU",
        "outputId": "821b57aa-5fd5-49a3-f247-eaba15130939"
      },
      "execution_count": null,
      "outputs": [
        {
          "output_type": "stream",
          "name": "stdout",
          "text": [
            "Longitude Median: -118.485\n",
            "Latitude Median: 34.27\n",
            "Housing Median Age Median: 29.0\n",
            "Total Rooms Median: 2106.0\n",
            "Total Bedrooms Median: 437.0\n",
            "Population Median: 1155.0\n",
            "Households Median: 409.5\n",
            "Median Income Median: 3.4871499999999997\n",
            "Median House Value Median: 177650.0\n"
          ]
        }
      ]
    },
    {
      "cell_type": "markdown",
      "source": [
        "Mode of the Data"
      ],
      "metadata": {
        "id": "bgYLLwHBaR7Q"
      }
    },
    {
      "cell_type": "code",
      "source": [
        "longitude_mode = stats.mode(data['longitude'])\n",
        "latitude_mode = stats.mode(data['latitude'])\n",
        "housing_median_age_mode = stats.mode(data['housing_median_age'])\n",
        "total_rooms_mode = stats.mode(data['total_rooms'])\n",
        "total_bedrooms_mode = stats.mode(data['total_bedrooms'])\n",
        "population_mode = stats.mode(data['population'])\n",
        "households_mode = stats.mode(data['households'])\n",
        "median_income_mode = stats.mode(data['median_income'])\n",
        "median_house_value_mode = stats.mode(data['median_house_value'])\n",
        "'''Print Results'''\n",
        "print(\"Longitude Mode:\", longitude_mode)\n",
        "print(\"Latitude Mode:\", latitude_mode)\n",
        "print(\"Housing Median Age Mode:\", housing_median_age_mode)\n",
        "print(\"Total Rooms Mode:\", total_rooms_mode)\n",
        "print(\"Total Bedrooms Mode:\", total_bedrooms_mode)\n",
        "print(\"Population Mode:\", population_mode)\n",
        "print(\"Households Mode:\", households_mode)\n",
        "print(\"Median Income Mode:\", median_income_mode)\n",
        "print(\"Median House Value Mode:\", median_house_value_mode)"
      ],
      "metadata": {
        "colab": {
          "base_uri": "https://localhost:8080/"
        },
        "id": "W_NgxPY1aUkT",
        "outputId": "fbc11eab-01f3-4584-cda7-3f9bfab118c1"
      },
      "execution_count": null,
      "outputs": [
        {
          "output_type": "stream",
          "name": "stdout",
          "text": [
            "Longitude Mode: ModeResult(mode=-118.26, count=26)\n",
            "Latitude Mode: ModeResult(mode=34.02, count=35)\n",
            "Housing Median Age Mode: ModeResult(mode=52.0, count=173)\n",
            "Total Rooms Mode: ModeResult(mode=907.0, count=5)\n",
            "Total Bedrooms Mode: ModeResult(mode=314.0, count=15)\n",
            "Population Mode: ModeResult(mode=870.0, count=7)\n",
            "Households Mode: ModeResult(mode=273.0, count=12)\n",
            "Median Income Mode: ModeResult(mode=15.0001, count=9)\n",
            "Median House Value Mode: ModeResult(mode=500001.0, count=125)\n"
          ]
        }
      ]
    },
    {
      "cell_type": "markdown",
      "source": [
        "Variance of the Data"
      ],
      "metadata": {
        "id": "XSRouf_Saa5i"
      }
    },
    {
      "cell_type": "code",
      "source": [
        "longitude_variance = np.var(data['longitude'])\n",
        "latitude_variance = np.var(data['latitude'])\n",
        "housing_median_age_variance = np.var(data['housing_median_age'])\n",
        "total_rooms_variance = np.var(data['total_rooms'])\n",
        "total_bedrooms_variance = np.var(data['total_bedrooms'])\n",
        "population_variance = np.var(data['population'])\n",
        "households_variance = np.var(data['households'])\n",
        "median_income_variance = np.var(data['median_income'])\n",
        "median_house_value_variance = np.var(data['median_house_value'])\n",
        "print(\"Longitude Variance:\", longitude_variance)\n",
        "print(\"Latitude Variance:\", latitude_variance)\n",
        "print(\"Housing Median Age Variance:\", housing_median_age_variance)\n",
        "print(\"Total Rooms Variance:\", total_rooms_variance)\n",
        "print(\"Total Bedrooms Variance:\", total_bedrooms_variance)\n",
        "print(\"Population Variance:\", population_variance)\n",
        "print(\"Households Variance:\", households_variance)\n",
        "print(\"Median Income Variance:\", median_income_variance)\n",
        "print(\"Median House Value Variance:\", median_house_value_variance)"
      ],
      "metadata": {
        "colab": {
          "base_uri": "https://localhost:8080/"
        },
        "id": "7kd23Rndabsl",
        "outputId": "244ad523-26e3-479a-df70-fdd35d01bb1b"
      },
      "execution_count": null,
      "outputs": [
        {
          "output_type": "stream",
          "name": "stdout",
          "text": [
            "Longitude Variance: 3.9784442266666673\n",
            "Latitude Variance: 4.5339804479\n",
            "Housing Median Age Variance: 157.58541155555554\n",
            "Total Rooms Variance: 4645033.750478223\n",
            "Total Bedrooms Variance: 172710.9642328889\n",
            "Population Variance: 1061664.8941315555\n",
            "Households Variance: 133489.24558933332\n",
            "Median Income Variance: 3.4380673509780935\n",
            "Median House Value Variance: 12791798338.666039\n"
          ]
        }
      ]
    },
    {
      "cell_type": "markdown",
      "source": [
        "Standard Deviation of the Data"
      ],
      "metadata": {
        "id": "MH8Lm_yHak32"
      }
    },
    {
      "cell_type": "code",
      "source": [
        "longitude_std = np.std(data['longitude'])\n",
        "latitude_std = np.std(data['latitude'])\n",
        "housing_median_age_std = np.std(data['housing_median_age'])\n",
        "total_rooms_std = np.std(data['total_rooms'])\n",
        "total_bedrooms_std = np.std(data['total_bedrooms'])\n",
        "population_std = np.std(data['population'])\n",
        "households_std = np.std(data['households'])\n",
        "median_income_std = np.std(data['median_income'])\n",
        "median_house_value_std = np.std(data['median_house_value'])\n",
        "print(\"Longitude Standard Deviation:\", longitude_std)\n",
        "print(\"Latitude Standard Deviation:\", latitude_std)\n",
        "print(\"Housing Median Age Standard Deviation:\", housing_median_age_std)\n",
        "print(\"Total Rooms Standard Deviation:\", total_rooms_std)\n",
        "print(\"Total Bedrooms Standard Deviation:\", total_bedrooms_std)\n",
        "print(\"Population Standard Deviation:\", population_std)\n",
        "print(\"Households Standard Deviation:\", households_std)\n",
        "print(\"Median Income Standard Deviation:\", median_income_std)\n",
        "print(\"Median House Value Standard Deviation:\", median_house_value_std)"
      ],
      "metadata": {
        "colab": {
          "base_uri": "https://localhost:8080/"
        },
        "id": "MG6zCtspalyl",
        "outputId": "ec53506e-2c9b-4635-8890-723cb98a1ad7"
      },
      "execution_count": null,
      "outputs": [
        {
          "output_type": "stream",
          "name": "stdout",
          "text": [
            "Longitude Standard Deviation: 1.9946037768606244\n",
            "Latitude Standard Deviation: 2.1293145488396026\n",
            "Housing Median Age Standard Deviation: 12.553302814620363\n",
            "Total Rooms Standard Deviation: 2155.2340361265233\n",
            "Total Bedrooms Standard Deviation: 415.58508663436044\n",
            "Population Standard Deviation: 1030.3712409280238\n",
            "Households Standard Deviation: 365.3618009443972\n",
            "Median Income Standard Deviation: 1.854202618641796\n",
            "Median House Value Standard Deviation: 113100.83261703266\n"
          ]
        }
      ]
    },
    {
      "cell_type": "markdown",
      "source": [
        "Range of the Data"
      ],
      "metadata": {
        "id": "uQ0O0TQ3a1Ke"
      }
    },
    {
      "cell_type": "code",
      "source": [
        "longitude_range = np.max(data['longitude']) - np.min(data['longitude'])\n",
        "latitude_range = np.max(data['latitude']) - np.min(data['latitude'])\n",
        "housing_median_age_range = np.max(data['housing_median_age']) - np.min(data['housing_median_age'])\n",
        "\n",
        "total_rooms_range = np.max(data['total_rooms']) - np.min(data['total_rooms'])\n",
        "total_bedrooms_range = np.max(data['total_bedrooms']) - np.min(data['total_bedrooms'])\n",
        "\n",
        "population_range = np.max(data['population']) - np.min(data['population'])\n",
        "households_range = np.max(data['households']) - np.min(data['households'])\n",
        "median_income_range = np.max(data['median_income']) - np.min(data['median_income'])\n",
        "\n",
        "median_house_value_range = np.max(data['median_house_value']) - np.min(data['median_house_value'])\n",
        "\n",
        "print(\"Longitude Range:\", longitude_range)\n",
        "print(\"Latitude Range:\", latitude_range)\n",
        "print(\"Housing Median Age Range:\", housing_median_age_range)\n",
        "print(\"Total Rooms Range:\", total_rooms_range)\n",
        "print(\"Total Bedrooms Range:\", total_bedrooms_range)\n",
        "print(\"Population Range:\", population_range)\n",
        "print(\"Households Range:\", households_range)\n",
        "print(\"Median Income Range:\", median_income_range)\n",
        "print(\"Median House Value Range:\", median_house_value_range)\n"
      ],
      "metadata": {
        "colab": {
          "base_uri": "https://localhost:8080/"
        },
        "id": "g--4VE5dbEtN",
        "outputId": "ae38fc47-2eef-46e6-a092-86426072f277"
      },
      "execution_count": null,
      "outputs": [
        {
          "output_type": "stream",
          "name": "stdout",
          "text": [
            "Longitude Range: 9.690000000000012\n",
            "Latitude Range: 9.36\n",
            "Housing Median Age Range: 51.0\n",
            "Total Rooms Range: 30444.0\n",
            "Total Bedrooms Range: 5417.0\n",
            "Population Range: 11930.0\n",
            "Households Range: 4928.0\n",
            "Median Income Range: 14.5002\n",
            "Median House Value Range: 477501.0\n"
          ]
        }
      ]
    },
    {
      "cell_type": "markdown",
      "source": [
        "Interquile Range of the Data"
      ],
      "metadata": {
        "id": "ZR4AU-h5bzAx"
      }
    },
    {
      "cell_type": "code",
      "source": [
        "longitude_IQR = stats.iqr(data['longitude'])\n",
        "latitude_IQR = stats.iqr(data['latitude'])\n",
        "housing_median_age_IQR = stats.iqr(data['housing_median_age'])\n",
        "total_rooms_IQR = stats.iqr(data['total_rooms'])\n",
        "total_bedrooms_IQR = stats.iqr(data['total_bedrooms'])\n",
        "population_IQR = stats.iqr(data['population'])\n",
        "households_IQR = stats.iqr(data['households'])\n",
        "median_income_IQR = stats.iqr(data['median_income'])\n",
        "median_house_value_IQR = stats.iqr(data['median_house_value'])\n",
        "print(\"Longitude IQR:\", longitude_IQR)\n",
        "print(\"Latitude IQR:\", latitude_IQR)\n",
        "print(\"Housing Median Age IQR:\", housing_median_age_IQR)\n",
        "print(\"Total Rooms IQR:\", total_rooms_IQR)\n",
        "print(\"Total Bedrooms IQR:\", total_bedrooms_IQR)\n",
        "print(\"Population IQR:\", population_IQR)\n",
        "print(\"Households IQR:\", households_IQR)\n",
        "print(\"Median Income IQR:\", median_income_IQR)\n",
        "print(\"Median House Value IQR:\", median_house_value_IQR)\n"
      ],
      "metadata": {
        "colab": {
          "base_uri": "https://localhost:8080/"
        },
        "id": "Gs_WOBwAb0tF",
        "outputId": "99ebfa8d-c47d-471f-974c-4b818fbb9399"
      },
      "execution_count": null,
      "outputs": [
        {
          "output_type": "stream",
          "name": "stdout",
          "text": [
            "Longitude IQR: 3.7900000000000063\n",
            "Latitude IQR: 3.759999999999998\n",
            "Housing Median Age IQR: 19.0\n",
            "Total Rooms IQR: 1728.0\n",
            "Total Bedrooms IQR: 345.0\n",
            "Population IQR: 962.75\n",
            "Households IQR: 324.25\n",
            "Median Income IQR: 2.112475\n",
            "Median House Value IQR: 142775.0\n"
          ]
        }
      ]
    },
    {
      "cell_type": "markdown",
      "source": [
        "Skewness of the Data"
      ],
      "metadata": {
        "id": "yWEbA8ItcL15"
      }
    },
    {
      "cell_type": "code",
      "source": [
        "longitude_skew = stats.skew(data['longitude'])\n",
        "latitude_skew = stats.skew(data['latitude'])\n",
        "housing_median_age_skew = stats.skew(data['housing_median_age'])\n",
        "total_rooms_skew = stats.skew(data['total_rooms'])\n",
        "total_bedrooms_skew = stats.skew(data['total_bedrooms'])\n",
        "population_skew = stats.skew(data['population'])\n",
        "households_skew = stats.skew(data['households'])\n",
        "median_income_skew = stats.skew(data['median_income'])\n",
        "median_house_value_skew = stats.skew(data['median_house_value'])\n",
        "print(\"Longitude Skewness:\", longitude_skew)\n",
        "print(\"Latitude Skewness:\", latitude_skew)\n",
        "print(\"Housing Median Age Skewness:\", housing_median_age_skew)\n",
        "print(\"Total Rooms Skewness:\", total_rooms_skew)\n",
        "print(\"Total Bedrooms Skewness:\", total_bedrooms_skew)\n",
        "print(\"Population Skewness:\", population_skew)\n",
        "print(\"Households Skewness:\", households_skew)\n",
        "print(\"Median Income Skewness:\", median_income_skew)\n",
        "print(\"Median House Value Skewness:\", median_house_value_skew)\n"
      ],
      "metadata": {
        "colab": {
          "base_uri": "https://localhost:8080/"
        },
        "id": "Xs6Oav9wcM79",
        "outputId": "f988ab8e-3309-4a23-bb0c-6a7d5209428a"
      },
      "execution_count": null,
      "outputs": [
        {
          "output_type": "stream",
          "name": "stdout",
          "text": [
            "Longitude Skewness: -0.29770868312210047\n",
            "Latitude Skewness: 0.45958599688301055\n",
            "Housing Median Age Skewness: 0.01850386331347812\n",
            "Total Rooms Skewness: 4.165553250335494\n",
            "Total Bedrooms Skewness: 3.861461224097534\n",
            "Population Skewness: 2.9481956505974214\n",
            "Households Skewness: 3.5579732876776733\n",
            "Median Income Skewness: 1.697662360984838\n",
            "Median House Value Skewness: 0.9890670635093471\n"
          ]
        }
      ]
    },
    {
      "cell_type": "markdown",
      "source": [
        "Kurtosis of the Data"
      ],
      "metadata": {
        "id": "8O38mnzFcaXX"
      }
    },
    {
      "cell_type": "code",
      "source": [
        "longitude_kurtosis = stats.kurtosis(data['longitude'])\n",
        "latitude_kurtosis = stats.kurtosis(data['latitude'])\n",
        "housing_median_age_kurtosis = stats.kurtosis(data['housing_median_age'])\n",
        "total_rooms_kurtosis = stats.kurtosis(data['total_rooms'])\n",
        "total_bedrooms_kurtosis = stats.kurtosis(data['total_bedrooms'])\n",
        "population_kurtosis = stats.kurtosis(data['population'])\n",
        "households_kurtosis = stats.kurtosis(data['households'])\n",
        "median_income_kurtosis = stats.kurtosis(data['median_income'])\n",
        "median_house_value_kurtosis = stats.kurtosis(data['median_house_value'])\n",
        "print(\"Longitude Kurtosis:\", longitude_kurtosis)\n",
        "print(\"Latitude Kurtosis:\", latitude_kurtosis)\n",
        "print(\"Housing Median Age Kurtosis:\", housing_median_age_kurtosis)\n",
        "print(\"Total Rooms Kurtosis:\", total_rooms_kurtosis)\n",
        "print(\"Total Bedrooms Kurtosis:\", total_bedrooms_kurtosis)\n",
        "print(\"Population Kurtosis:\", population_kurtosis)\n",
        "print(\"Households Kurtosis:\", households_kurtosis)\n",
        "print(\"Median Income Kurtosis:\", median_income_kurtosis)\n",
        "print(\"Median House Value Kurtosis:\", median_house_value_kurtosis)"
      ],
      "metadata": {
        "colab": {
          "base_uri": "https://localhost:8080/"
        },
        "id": "RTWRhEjicbWS",
        "outputId": "02717ff6-fd78-4160-f60a-75758f6e8e63"
      },
      "execution_count": null,
      "outputs": [
        {
          "output_type": "stream",
          "name": "stdout",
          "text": [
            "Longitude Kurtosis: -1.3625007669256197\n",
            "Latitude Kurtosis: -1.1244987241902247\n",
            "Housing Median Age Kurtosis: -0.8044440474433037\n",
            "Total Rooms Kurtosis: 32.044466669077906\n",
            "Total Bedrooms Kurtosis: 28.48753189248459\n",
            "Population Kurtosis: 16.41387618265221\n",
            "Households Kurtosis: 26.18366680809118\n",
            "Median Income Kurtosis: 5.614812216724314\n",
            "Median House Value Kurtosis: 0.3927409720063544\n"
          ]
        }
      ]
    }
  ]
}